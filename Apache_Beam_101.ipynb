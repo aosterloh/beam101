{
  "nbformat": 4,
  "nbformat_minor": 0,
  "metadata": {
    "colab": {
      "name": "Apache Beam 101.ipynb",
      "version": "0.3.2",
      "provenance": []
    },
    "kernelspec": {
      "name": "python2",
      "display_name": "Python 2"
    }
  },
  "cells": [
    {
      "metadata": {
        "id": "rNnA4lOk5Mtj",
        "colab_type": "text"
      },
      "cell_type": "markdown",
      "source": [
        "Based on Apache Beam streaming example in book by Lak \n",
        "\n",
        "https://github.com/GoogleCloudPlatform/data-science-on-gcp/tree/master/04_streaming\n",
        "\n",
        "![alt text](https://covers.oreillystatic.com/images/0636920057628/lrg.jpg)\n"
      ]
    },
    {
      "metadata": {
        "id": "eYLyeeSx7YRD",
        "colab_type": "text"
      },
      "cell_type": "markdown",
      "source": [
        "###First install some python libs we need ...\n",
        "\n",
        "\n"
      ]
    },
    {
      "metadata": {
        "id": "RptLO9LnFnuf",
        "colab_type": "code",
        "outputId": "26ba6e09-851f-42fd-deb4-2d0058a3a674",
        "colab": {
          "base_uri": "https://localhost:8080/",
          "height": 3405
        }
      },
      "cell_type": "code",
      "source": [
        "!pip install apache-beam[gcp]\n",
        "!pip install --upgrade google-cloud-pubsub\n",
        "!pip install --upgrade google-cloud-storage\n",
        "!pip install timezonefinder"
      ],
      "execution_count": 0,
      "outputs": [
        {
          "output_type": "stream",
          "text": [
            "Collecting apache-beam[gcp]\n",
            "\u001b[?25l  Downloading https://files.pythonhosted.org/packages/e8/5c/4c4302f48686e89468cc036a8171b55a2f509339dd5d1613be2ec5c41c8e/apache_beam-2.7.0-cp27-cp27mu-manylinux1_x86_64.whl (2.3MB)\n",
            "\u001b[K    100% |████████████████████████████████| 2.3MB 7.2MB/s \n",
            "\u001b[?25hRequirement already satisfied: pyyaml<4.0.0,>=3.12 in /usr/local/lib/python2.7/dist-packages (from apache-beam[gcp]) (3.13)\n",
            "Requirement already satisfied: futures<4.0.0,>=3.1.1 in /usr/local/lib/python2.7/dist-packages (from apache-beam[gcp]) (3.2.0)\n",
            "Collecting hdfs<3.0.0,>=2.1.0 (from apache-beam[gcp])\n",
            "  Downloading https://files.pythonhosted.org/packages/bb/ef/35af4764ea6c60bd14195ca78d4e831d154183f35cc4af4a0b3e01aa28ce/hdfs-2.1.0.tar.gz\n",
            "Collecting pyvcf<0.7.0,>=0.6.8 (from apache-beam[gcp])\n",
            "  Downloading https://files.pythonhosted.org/packages/20/b6/36bfb1760f6983788d916096193fc14c83cce512c7787c93380e09458c09/PyVCF-0.6.8.tar.gz\n",
            "Collecting avro<2.0.0,>=1.8.1 (from apache-beam[gcp])\n",
            "\u001b[?25l  Downloading https://files.pythonhosted.org/packages/eb/27/143f124a7498f841317a92ced877150c5cb8d28a4109ec39666485925d00/avro-1.8.2.tar.gz (43kB)\n",
            "\u001b[K    100% |████████████████████████████████| 51kB 20.3MB/s \n",
            "\u001b[?25hRequirement already satisfied: dill<=0.2.8.2,>=0.2.6 in /usr/local/lib/python2.7/dist-packages (from apache-beam[gcp]) (0.2.8.2)\n",
            "Requirement already satisfied: future<1.0.0,>=0.16.0 in /usr/local/lib/python2.7/dist-packages (from apache-beam[gcp]) (0.16.0)\n",
            "Requirement already satisfied: httplib2<=0.11.3,>=0.8 in /usr/local/lib/python2.7/dist-packages (from apache-beam[gcp]) (0.11.3)\n",
            "Requirement already satisfied: typing<3.7.0,>=3.6.0 in /usr/local/lib/python2.7/dist-packages (from apache-beam[gcp]) (3.6.6)\n",
            "Collecting fastavro==0.19.7 (from apache-beam[gcp])\n",
            "\u001b[?25l  Downloading https://files.pythonhosted.org/packages/a7/0a/b08ba5cef63c675e8442c2bf1cbcef90c8b9f824be2202d492f0cedb0913/fastavro-0.19.7.tar.gz (499kB)\n",
            "\u001b[K    100% |████████████████████████████████| 501kB 13.4MB/s \n",
            "\u001b[?25hRequirement already satisfied: grpcio<2,>=1.8 in /usr/local/lib/python2.7/dist-packages (from apache-beam[gcp]) (1.15.0)\n",
            "Collecting pytz<=2018.4,>=2018.3 (from apache-beam[gcp])\n",
            "\u001b[?25l  Downloading https://files.pythonhosted.org/packages/dc/83/15f7833b70d3e067ca91467ca245bae0f6fe56ddc7451aa0dc5606b120f2/pytz-2018.4-py2.py3-none-any.whl (510kB)\n",
            "\u001b[K    100% |████████████████████████████████| 512kB 14.8MB/s \n",
            "\u001b[?25hRequirement already satisfied: protobuf<4,>=3.5.0.post1 in /usr/local/lib/python2.7/dist-packages (from apache-beam[gcp]) (3.6.1)\n",
            "Collecting pydot<1.3,>=1.2.0 (from apache-beam[gcp])\n",
            "\u001b[?25l  Downloading https://files.pythonhosted.org/packages/c3/f1/e61d6dfe6c1768ed2529761a68f70939e2569da043e9f15a8d84bf56cadf/pydot-1.2.4.tar.gz (132kB)\n",
            "\u001b[K    100% |████████████████████████████████| 133kB 30.1MB/s \n",
            "\u001b[?25hRequirement already satisfied: oauth2client<5,>=2.0.1 in /usr/local/lib/python2.7/dist-packages (from apache-beam[gcp]) (4.1.3)\n",
            "Requirement already satisfied: six<1.12,>=1.9 in /usr/local/lib/python2.7/dist-packages (from apache-beam[gcp]) (1.11.0)\n",
            "Requirement already satisfied: mock<3.0.0,>=1.0.1 in /usr/local/lib/python2.7/dist-packages (from apache-beam[gcp]) (2.0.0)\n",
            "Requirement already satisfied: crcmod<2.0,>=1.7 in /usr/local/lib/python2.7/dist-packages (from apache-beam[gcp]) (1.7)\n",
            "Collecting google-apitools<=0.5.20,>=0.5.18; extra == \"gcp\" (from apache-beam[gcp])\n",
            "\u001b[?25l  Downloading https://files.pythonhosted.org/packages/1d/0c/64f84f91643f775fdb64c6c10f4a4f0d827f8b0d98a2ba2b4bb9dc2f8646/google_apitools-0.5.20-py2-none-any.whl (330kB)\n",
            "\u001b[K    100% |████████████████████████████████| 337kB 21.7MB/s \n",
            "\u001b[?25hCollecting proto-google-cloud-pubsub-v1==0.15.4; extra == \"gcp\" (from apache-beam[gcp])\n",
            "  Downloading https://files.pythonhosted.org/packages/c0/a2/2eeffa0069830f00016196dfdd69491cf562372b5353f2e8e378b3c2cb0a/proto-google-cloud-pubsub-v1-0.15.4.tar.gz\n",
            "Collecting google-cloud-bigquery==0.25.0; extra == \"gcp\" (from apache-beam[gcp])\n",
            "\u001b[?25l  Downloading https://files.pythonhosted.org/packages/76/67/6165c516ff6ceaa62eb61f11d8451e1b0acc4d3775e181630aba9652babb/google_cloud_bigquery-0.25.0-py2.py3-none-any.whl (41kB)\n",
            "\u001b[K    100% |████████████████████████████████| 51kB 21.1MB/s \n",
            "\u001b[?25hCollecting google-cloud-pubsub==0.26.0; extra == \"gcp\" (from apache-beam[gcp])\n",
            "  Downloading https://files.pythonhosted.org/packages/37/92/c74a643126d58505daec9addf872dfaffea3305981b90cc435f4b9213cdd/google_cloud_pubsub-0.26.0-py2.py3-none-any.whl\n",
            "Collecting googledatastore==7.0.1; extra == \"gcp\" (from apache-beam[gcp])\n",
            "  Downloading https://files.pythonhosted.org/packages/73/d0/17ce873331aaf529ab238464a15fd7bdc1ba8d2c684789970a7fa8b505a8/googledatastore-7.0.1.tar.gz\n",
            "Collecting proto-google-cloud-datastore-v1<=0.90.4,>=0.90.0; extra == \"gcp\" (from apache-beam[gcp])\n",
            "  Downloading https://files.pythonhosted.org/packages/2a/1f/4124f15e1132a2eeeaf616d825990bb1d395b4c2c37362654ea5cd89bb42/proto-google-cloud-datastore-v1-0.90.4.tar.gz\n",
            "Collecting docopt (from hdfs<3.0.0,>=2.1.0->apache-beam[gcp])\n",
            "  Downloading https://files.pythonhosted.org/packages/a2/55/8f8cab2afd404cf578136ef2cc5dfb50baa1761b68c9da1fb1e4eed343c9/docopt-0.6.2.tar.gz\n",
            "Requirement already satisfied: requests>=2.7.0 in /usr/local/lib/python2.7/dist-packages (from hdfs<3.0.0,>=2.1.0->apache-beam[gcp]) (2.18.4)\n",
            "Requirement already satisfied: setuptools in /usr/local/lib/python2.7/dist-packages (from pyvcf<0.7.0,>=0.6.8->apache-beam[gcp]) (40.4.3)\n",
            "Requirement already satisfied: enum34>=1.0.4 in /usr/local/lib/python2.7/dist-packages (from grpcio<2,>=1.8->apache-beam[gcp]) (1.1.6)\n",
            "Requirement already satisfied: pyparsing>=2.1.4 in /usr/local/lib/python2.7/dist-packages (from pydot<1.3,>=1.2.0->apache-beam[gcp]) (2.2.2)\n",
            "Requirement already satisfied: rsa>=3.1.4 in /usr/local/lib/python2.7/dist-packages (from oauth2client<5,>=2.0.1->apache-beam[gcp]) (4.0)\n",
            "Requirement already satisfied: pyasn1>=0.1.7 in /usr/local/lib/python2.7/dist-packages (from oauth2client<5,>=2.0.1->apache-beam[gcp]) (0.4.4)\n",
            "Requirement already satisfied: pyasn1-modules>=0.0.5 in /usr/local/lib/python2.7/dist-packages (from oauth2client<5,>=2.0.1->apache-beam[gcp]) (0.2.2)\n",
            "Requirement already satisfied: funcsigs>=1; python_version < \"3.3\" in /usr/local/lib/python2.7/dist-packages (from mock<3.0.0,>=1.0.1->apache-beam[gcp]) (1.0.2)\n",
            "Requirement already satisfied: pbr>=0.11 in /usr/local/lib/python2.7/dist-packages (from mock<3.0.0,>=1.0.1->apache-beam[gcp]) (5.0.0)\n",
            "Collecting fasteners>=0.14 (from google-apitools<=0.5.20,>=0.5.18; extra == \"gcp\"->apache-beam[gcp])\n",
            "  Downloading https://files.pythonhosted.org/packages/14/3a/096c7ad18e102d4f219f5dd15951f9728ca5092a3385d2e8f79a7c1e1017/fasteners-0.14.1-py2.py3-none-any.whl\n",
            "Requirement already satisfied: googleapis-common-protos<2.0dev,>=1.5.2 in /usr/local/lib/python2.7/dist-packages (from proto-google-cloud-pubsub-v1==0.15.4; extra == \"gcp\"->apache-beam[gcp]) (1.5.3)\n",
            "Collecting google-cloud-core<0.26dev,>=0.25.0 (from google-cloud-bigquery==0.25.0; extra == \"gcp\"->apache-beam[gcp])\n",
            "\u001b[?25l  Downloading https://files.pythonhosted.org/packages/ef/dd/00e90bd1f6788f06ca5ea83a0ec8dd76350b38303bb8f09d2bf692eb1294/google_cloud_core-0.25.0-py2.py3-none-any.whl (52kB)\n",
            "\u001b[K    100% |████████████████████████████████| 61kB 19.2MB/s \n",
            "\u001b[?25hCollecting gapic-google-cloud-pubsub-v1<0.16dev,>=0.15.0 (from google-cloud-pubsub==0.26.0; extra == \"gcp\"->apache-beam[gcp])\n",
            "  Downloading https://files.pythonhosted.org/packages/bc/a7/0225bd7a95e037a0afa90b2dd9534d0c79cd62283a5bddb30a3197579cbc/gapic-google-cloud-pubsub-v1-0.15.4.tar.gz\n",
            "Requirement already satisfied: idna<2.7,>=2.5 in /usr/local/lib/python2.7/dist-packages (from requests>=2.7.0->hdfs<3.0.0,>=2.1.0->apache-beam[gcp]) (2.6)\n",
            "Requirement already satisfied: urllib3<1.23,>=1.21.1 in /usr/local/lib/python2.7/dist-packages (from requests>=2.7.0->hdfs<3.0.0,>=2.1.0->apache-beam[gcp]) (1.22)\n",
            "Requirement already satisfied: certifi>=2017.4.17 in /usr/local/lib/python2.7/dist-packages (from requests>=2.7.0->hdfs<3.0.0,>=2.1.0->apache-beam[gcp]) (2018.10.15)\n",
            "Requirement already satisfied: chardet<3.1.0,>=3.0.2 in /usr/local/lib/python2.7/dist-packages (from requests>=2.7.0->hdfs<3.0.0,>=2.1.0->apache-beam[gcp]) (3.0.4)\n",
            "Collecting monotonic>=0.1 (from fasteners>=0.14->google-apitools<=0.5.20,>=0.5.18; extra == \"gcp\"->apache-beam[gcp])\n",
            "  Downloading https://files.pythonhosted.org/packages/ac/aa/063eca6a416f397bd99552c534c6d11d57f58f2e94c14780f3bbf818c4cf/monotonic-1.5-py2.py3-none-any.whl\n",
            "Requirement already satisfied: google-auth-httplib2 in /usr/local/lib/python2.7/dist-packages (from google-cloud-core<0.26dev,>=0.25.0->google-cloud-bigquery==0.25.0; extra == \"gcp\"->apache-beam[gcp]) (0.0.3)\n",
            "Requirement already satisfied: google-auth<2.0.0dev,>=0.4.0 in /usr/local/lib/python2.7/dist-packages (from google-cloud-core<0.26dev,>=0.25.0->google-cloud-bigquery==0.25.0; extra == \"gcp\"->apache-beam[gcp]) (1.4.2)\n",
            "Collecting google-gax<0.16dev,>=0.15.7 (from gapic-google-cloud-pubsub-v1<0.16dev,>=0.15.0->google-cloud-pubsub==0.26.0; extra == \"gcp\"->apache-beam[gcp])\n",
            "\u001b[?25l  Downloading https://files.pythonhosted.org/packages/4f/b4/ff312fa42f91535c67567c1d08e972db0e7c548e9a63c6f3bcc5213b32fc/google_gax-0.15.16-py2.py3-none-any.whl (46kB)\n",
            "\u001b[K    100% |████████████████████████████████| 51kB 20.8MB/s \n",
            "\u001b[?25hCollecting grpc-google-iam-v1<0.12dev,>=0.11.1 (from gapic-google-cloud-pubsub-v1<0.16dev,>=0.15.0->google-cloud-pubsub==0.26.0; extra == \"gcp\"->apache-beam[gcp])\n",
            "  Downloading https://files.pythonhosted.org/packages/9b/28/f26f67381cb23e81271b8d66c00a846ad9d25a909ae1ae1df8222fad2744/grpc-google-iam-v1-0.11.4.tar.gz\n",
            "Requirement already satisfied: cachetools>=2.0.0 in /usr/local/lib/python2.7/dist-packages (from google-auth<2.0.0dev,>=0.4.0->google-cloud-core<0.26dev,>=0.25.0->google-cloud-bigquery==0.25.0; extra == \"gcp\"->apache-beam[gcp]) (2.1.0)\n",
            "Collecting ply==3.8 (from google-gax<0.16dev,>=0.15.7->gapic-google-cloud-pubsub-v1<0.16dev,>=0.15.0->google-cloud-pubsub==0.26.0; extra == \"gcp\"->apache-beam[gcp])\n",
            "\u001b[?25l  Downloading https://files.pythonhosted.org/packages/96/e0/430fcdb6b3ef1ae534d231397bee7e9304be14a47a267e82ebcb3323d0b5/ply-3.8.tar.gz (157kB)\n",
            "\u001b[K    100% |████████████████████████████████| 163kB 27.5MB/s \n",
            "\u001b[?25hBuilding wheels for collected packages: hdfs, pyvcf, avro, fastavro, pydot, proto-google-cloud-pubsub-v1, googledatastore, proto-google-cloud-datastore-v1, docopt, gapic-google-cloud-pubsub-v1, grpc-google-iam-v1, ply\n",
            "  Running setup.py bdist_wheel for hdfs ... \u001b[?25l-\b \bdone\n",
            "\u001b[?25h  Stored in directory: /root/.cache/pip/wheels/8c/89/59/b95e6bf2d5957541862f2cd109a052f26b61dc2fad2f04a1b4\n",
            "  Running setup.py bdist_wheel for pyvcf ... \u001b[?25l-\b \bdone\n",
            "\u001b[?25h  Stored in directory: /root/.cache/pip/wheels/81/91/41/3272543c0b9c61da9c525f24ee35bae6fe8f60d4858c66805d\n",
            "  Running setup.py bdist_wheel for avro ... \u001b[?25l-\b \bdone\n",
            "\u001b[?25h  Stored in directory: /root/.cache/pip/wheels/bf/0b/75/1b3517b7d36ddc8ba5d22c0df5eb01e83979f34420066d643e\n",
            "  Running setup.py bdist_wheel for fastavro ... \u001b[?25l-\b \b\\\b \b|\b \b/\b \b-\b \b\\\b \b|\b \b/\b \b-\b \bdone\n",
            "\u001b[?25h  Stored in directory: /root/.cache/pip/wheels/eb/5a/3e/3c2f0642da6a98b89f8ba910caee749af59a1ee4f1cde02f5b\n",
            "  Running setup.py bdist_wheel for pydot ... \u001b[?25l-\b \bdone\n",
            "\u001b[?25h  Stored in directory: /root/.cache/pip/wheels/6a/a5/14/25541ebcdeaf97a37b6d05c7ff15f5bd20f5e91b99d313e5b4\n",
            "  Running setup.py bdist_wheel for proto-google-cloud-pubsub-v1 ... \u001b[?25l-\b \bdone\n",
            "\u001b[?25h  Stored in directory: /root/.cache/pip/wheels/d1/0d/9e/95e7192ab2625847ac40b2bc618800bf5b6c984cd572a83314\n",
            "  Running setup.py bdist_wheel for googledatastore ... \u001b[?25l-\b \bdone\n",
            "\u001b[?25h  Stored in directory: /root/.cache/pip/wheels/93/fa/12/99c490525fff40bcd240504f694bd02848479bc2debc31daae\n",
            "  Running setup.py bdist_wheel for proto-google-cloud-datastore-v1 ... \u001b[?25l-\b \bdone\n",
            "\u001b[?25h  Stored in directory: /root/.cache/pip/wheels/bd/ce/33/8b769968db3761c42c7a91d8a0dbbafc50acfa0750866c8abd\n",
            "  Running setup.py bdist_wheel for docopt ... \u001b[?25l-\b \bdone\n",
            "\u001b[?25h  Stored in directory: /root/.cache/pip/wheels/9b/04/dd/7daf4150b6d9b12949298737de9431a324d4b797ffd63f526e\n",
            "  Running setup.py bdist_wheel for gapic-google-cloud-pubsub-v1 ... \u001b[?25l-\b \bdone\n",
            "\u001b[?25h  Stored in directory: /root/.cache/pip/wheels/f4/2b/10/bdcbc9be2ae4e437232e118056f026025cf2cc46d6dcf0d69d\n",
            "  Running setup.py bdist_wheel for grpc-google-iam-v1 ... \u001b[?25l-\b \bdone\n",
            "\u001b[?25h  Stored in directory: /root/.cache/pip/wheels/b6/c6/31/c20321a5a3fde456fc375b7c2814135e6e98bc0d74c40239d9\n",
            "  Running setup.py bdist_wheel for ply ... \u001b[?25l-\b \bdone\n",
            "\u001b[?25h  Stored in directory: /root/.cache/pip/wheels/f2/21/c0/f0056cc96847933daa961a19eb59a2ecd0228fdbe3376e7a68\n",
            "Successfully built hdfs pyvcf avro fastavro pydot proto-google-cloud-pubsub-v1 googledatastore proto-google-cloud-datastore-v1 docopt gapic-google-cloud-pubsub-v1 grpc-google-iam-v1 ply\n",
            "\u001b[31mgoogle-cloud-storage 1.8.0 has requirement google-cloud-core<0.29dev,>=0.28.0, but you'll have google-cloud-core 0.25.0 which is incompatible.\u001b[0m\n",
            "\u001b[31mgapic-google-cloud-pubsub-v1 0.15.4 has requirement oauth2client<4.0dev,>=2.0.0, but you'll have oauth2client 4.1.3 which is incompatible.\u001b[0m\n",
            "\u001b[31mproto-google-cloud-pubsub-v1 0.15.4 has requirement oauth2client<4.0dev,>=2.0.0, but you'll have oauth2client 4.1.3 which is incompatible.\u001b[0m\n",
            "\u001b[31mgoogle-cloud-translate 1.3.1 has requirement google-cloud-core<0.29dev,>=0.28.0, but you'll have google-cloud-core 0.25.0 which is incompatible.\u001b[0m\n",
            "\u001b[31mproto-google-cloud-datastore-v1 0.90.4 has requirement oauth2client<4.0dev,>=2.0.0, but you'll have oauth2client 4.1.3 which is incompatible.\u001b[0m\n",
            "\u001b[31mpandas-gbq 0.4.1 has requirement google-cloud-bigquery>=0.29.0, but you'll have google-cloud-bigquery 0.25.0 which is incompatible.\u001b[0m\n",
            "\u001b[31mgoogledatastore 7.0.1 has requirement httplib2<0.10,>=0.9.1, but you'll have httplib2 0.11.3 which is incompatible.\u001b[0m\n",
            "\u001b[31mgoogledatastore 7.0.1 has requirement oauth2client<4.0.0,>=2.0.1, but you'll have oauth2client 4.1.3 which is incompatible.\u001b[0m\n",
            "Installing collected packages: docopt, hdfs, pyvcf, avro, fastavro, pytz, pydot, monotonic, fasteners, google-apitools, proto-google-cloud-pubsub-v1, google-cloud-core, google-cloud-bigquery, ply, google-gax, grpc-google-iam-v1, gapic-google-cloud-pubsub-v1, google-cloud-pubsub, proto-google-cloud-datastore-v1, googledatastore, apache-beam\n",
            "  Found existing installation: pytz 2018.5\n",
            "    Uninstalling pytz-2018.5:\n",
            "      Successfully uninstalled pytz-2018.5\n",
            "  Found existing installation: google-cloud-core 0.28.1\n",
            "    Uninstalling google-cloud-core-0.28.1:\n",
            "      Successfully uninstalled google-cloud-core-0.28.1\n",
            "  Found existing installation: google-cloud-bigquery 1.1.0\n",
            "    Uninstalling google-cloud-bigquery-1.1.0:\n",
            "      Successfully uninstalled google-cloud-bigquery-1.1.0\n",
            "Successfully installed apache-beam-2.7.0 avro-1.8.2 docopt-0.6.2 fastavro-0.19.7 fasteners-0.14.1 gapic-google-cloud-pubsub-v1-0.15.4 google-apitools-0.5.20 google-cloud-bigquery-0.25.0 google-cloud-core-0.25.0 google-cloud-pubsub-0.26.0 google-gax-0.15.16 googledatastore-7.0.1 grpc-google-iam-v1-0.11.4 hdfs-2.1.0 monotonic-1.5 ply-3.8 proto-google-cloud-datastore-v1-0.90.4 proto-google-cloud-pubsub-v1-0.15.4 pydot-1.2.4 pytz-2018.4 pyvcf-0.6.8\n",
            "Collecting google-cloud-pubsub\n",
            "\u001b[?25l  Downloading https://files.pythonhosted.org/packages/e5/a0/3360ac59c93af4e65a4fb80e88c59139a9532866680efb1bc792d51909a2/google_cloud_pubsub-0.38.0-py2.py3-none-any.whl (100kB)\n",
            "\u001b[K    100% |████████████████████████████████| 102kB 4.4MB/s \n",
            "\u001b[?25hRequirement already satisfied, skipping upgrade: google-api-core[grpc]<2.0.0dev,>=1.1.0 in /usr/local/lib/python2.7/dist-packages (from google-cloud-pubsub) (1.5.0)\n",
            "Requirement already satisfied, skipping upgrade: enum34; python_version < \"3.4\" in /usr/local/lib/python2.7/dist-packages (from google-cloud-pubsub) (1.1.6)\n",
            "Requirement already satisfied, skipping upgrade: grpc-google-iam-v1<0.12dev,>=0.11.1 in /usr/local/lib/python2.7/dist-packages (from google-cloud-pubsub) (0.11.4)\n",
            "Requirement already satisfied, skipping upgrade: requests<3.0.0dev,>=2.18.0 in /usr/local/lib/python2.7/dist-packages (from google-api-core[grpc]<2.0.0dev,>=1.1.0->google-cloud-pubsub) (2.18.4)\n",
            "Requirement already satisfied, skipping upgrade: setuptools>=34.0.0 in /usr/local/lib/python2.7/dist-packages (from google-api-core[grpc]<2.0.0dev,>=1.1.0->google-cloud-pubsub) (40.4.3)\n",
            "Requirement already satisfied, skipping upgrade: protobuf>=3.4.0 in /usr/local/lib/python2.7/dist-packages (from google-api-core[grpc]<2.0.0dev,>=1.1.0->google-cloud-pubsub) (3.6.1)\n",
            "Requirement already satisfied, skipping upgrade: futures>=3.2.0; python_version < \"3.2\" in /usr/local/lib/python2.7/dist-packages (from google-api-core[grpc]<2.0.0dev,>=1.1.0->google-cloud-pubsub) (3.2.0)\n",
            "Requirement already satisfied, skipping upgrade: google-auth<2.0.0dev,>=0.4.0 in /usr/local/lib/python2.7/dist-packages (from google-api-core[grpc]<2.0.0dev,>=1.1.0->google-cloud-pubsub) (1.4.2)\n",
            "Requirement already satisfied, skipping upgrade: six>=1.10.0 in /usr/local/lib/python2.7/dist-packages (from google-api-core[grpc]<2.0.0dev,>=1.1.0->google-cloud-pubsub) (1.11.0)\n",
            "Requirement already satisfied, skipping upgrade: googleapis-common-protos<2.0dev,>=1.5.3 in /usr/local/lib/python2.7/dist-packages (from google-api-core[grpc]<2.0.0dev,>=1.1.0->google-cloud-pubsub) (1.5.3)\n",
            "Requirement already satisfied, skipping upgrade: pytz in /usr/local/lib/python2.7/dist-packages (from google-api-core[grpc]<2.0.0dev,>=1.1.0->google-cloud-pubsub) (2018.4)\n",
            "Requirement already satisfied, skipping upgrade: grpcio>=1.8.2; extra == \"grpc\" in /usr/local/lib/python2.7/dist-packages (from google-api-core[grpc]<2.0.0dev,>=1.1.0->google-cloud-pubsub) (1.15.0)\n",
            "Requirement already satisfied, skipping upgrade: idna<2.7,>=2.5 in /usr/local/lib/python2.7/dist-packages (from requests<3.0.0dev,>=2.18.0->google-api-core[grpc]<2.0.0dev,>=1.1.0->google-cloud-pubsub) (2.6)\n",
            "Requirement already satisfied, skipping upgrade: urllib3<1.23,>=1.21.1 in /usr/local/lib/python2.7/dist-packages (from requests<3.0.0dev,>=2.18.0->google-api-core[grpc]<2.0.0dev,>=1.1.0->google-cloud-pubsub) (1.22)\n",
            "Requirement already satisfied, skipping upgrade: certifi>=2017.4.17 in /usr/local/lib/python2.7/dist-packages (from requests<3.0.0dev,>=2.18.0->google-api-core[grpc]<2.0.0dev,>=1.1.0->google-cloud-pubsub) (2018.10.15)\n",
            "Requirement already satisfied, skipping upgrade: chardet<3.1.0,>=3.0.2 in /usr/local/lib/python2.7/dist-packages (from requests<3.0.0dev,>=2.18.0->google-api-core[grpc]<2.0.0dev,>=1.1.0->google-cloud-pubsub) (3.0.4)\n",
            "Requirement already satisfied, skipping upgrade: cachetools>=2.0.0 in /usr/local/lib/python2.7/dist-packages (from google-auth<2.0.0dev,>=0.4.0->google-api-core[grpc]<2.0.0dev,>=1.1.0->google-cloud-pubsub) (2.1.0)\n",
            "Requirement already satisfied, skipping upgrade: pyasn1-modules>=0.2.1 in /usr/local/lib/python2.7/dist-packages (from google-auth<2.0.0dev,>=0.4.0->google-api-core[grpc]<2.0.0dev,>=1.1.0->google-cloud-pubsub) (0.2.2)\n",
            "Requirement already satisfied, skipping upgrade: rsa>=3.1.4 in /usr/local/lib/python2.7/dist-packages (from google-auth<2.0.0dev,>=0.4.0->google-api-core[grpc]<2.0.0dev,>=1.1.0->google-cloud-pubsub) (4.0)\n",
            "Requirement already satisfied, skipping upgrade: pyasn1<0.5.0,>=0.4.1 in /usr/local/lib/python2.7/dist-packages (from pyasn1-modules>=0.2.1->google-auth<2.0.0dev,>=0.4.0->google-api-core[grpc]<2.0.0dev,>=1.1.0->google-cloud-pubsub) (0.4.4)\n",
            "Installing collected packages: google-cloud-pubsub\n",
            "  Found existing installation: google-cloud-pubsub 0.26.0\n",
            "    Uninstalling google-cloud-pubsub-0.26.0:\n",
            "      Successfully uninstalled google-cloud-pubsub-0.26.0\n",
            "Successfully installed google-cloud-pubsub-0.38.0\n",
            "Collecting google-cloud-storage\n",
            "\u001b[?25l  Downloading https://files.pythonhosted.org/packages/d7/62/a2e3111bf4d1eb54fe86dec694418644e024eb059bf1e66ebdcf9f98ad70/google_cloud_storage-1.13.0-py2.py3-none-any.whl (59kB)\n",
            "\u001b[K    100% |████████████████████████████████| 61kB 3.4MB/s \n",
            "\u001b[?25hRequirement already satisfied, skipping upgrade: google-api-core<2.0.0dev,>=0.1.1 in /usr/local/lib/python2.7/dist-packages (from google-cloud-storage) (1.5.0)\n",
            "Requirement already satisfied, skipping upgrade: google-resumable-media>=0.3.1 in /usr/local/lib/python2.7/dist-packages (from google-cloud-storage) (0.3.1)\n",
            "Collecting google-cloud-core<0.29dev,>=0.28.0 (from google-cloud-storage)\n",
            "  Downloading https://files.pythonhosted.org/packages/0f/41/ae2418b4003a14cf21c1c46d61d1b044bf02cf0f8f91598af572b9216515/google_cloud_core-0.28.1-py2.py3-none-any.whl\n",
            "Requirement already satisfied, skipping upgrade: requests<3.0.0dev,>=2.18.0 in /usr/local/lib/python2.7/dist-packages (from google-api-core<2.0.0dev,>=0.1.1->google-cloud-storage) (2.18.4)\n",
            "Requirement already satisfied, skipping upgrade: setuptools>=34.0.0 in /usr/local/lib/python2.7/dist-packages (from google-api-core<2.0.0dev,>=0.1.1->google-cloud-storage) (40.4.3)\n",
            "Requirement already satisfied, skipping upgrade: pytz in /usr/local/lib/python2.7/dist-packages (from google-api-core<2.0.0dev,>=0.1.1->google-cloud-storage) (2018.4)\n",
            "Requirement already satisfied, skipping upgrade: protobuf>=3.4.0 in /usr/local/lib/python2.7/dist-packages (from google-api-core<2.0.0dev,>=0.1.1->google-cloud-storage) (3.6.1)\n",
            "Requirement already satisfied, skipping upgrade: futures>=3.2.0; python_version < \"3.2\" in /usr/local/lib/python2.7/dist-packages (from google-api-core<2.0.0dev,>=0.1.1->google-cloud-storage) (3.2.0)\n",
            "Requirement already satisfied, skipping upgrade: google-auth<2.0.0dev,>=0.4.0 in /usr/local/lib/python2.7/dist-packages (from google-api-core<2.0.0dev,>=0.1.1->google-cloud-storage) (1.4.2)\n",
            "Requirement already satisfied, skipping upgrade: six>=1.10.0 in /usr/local/lib/python2.7/dist-packages (from google-api-core<2.0.0dev,>=0.1.1->google-cloud-storage) (1.11.0)\n",
            "Requirement already satisfied, skipping upgrade: googleapis-common-protos<2.0dev,>=1.5.3 in /usr/local/lib/python2.7/dist-packages (from google-api-core<2.0.0dev,>=0.1.1->google-cloud-storage) (1.5.3)\n",
            "Requirement already satisfied, skipping upgrade: idna<2.7,>=2.5 in /usr/local/lib/python2.7/dist-packages (from requests<3.0.0dev,>=2.18.0->google-api-core<2.0.0dev,>=0.1.1->google-cloud-storage) (2.6)\n",
            "Requirement already satisfied, skipping upgrade: urllib3<1.23,>=1.21.1 in /usr/local/lib/python2.7/dist-packages (from requests<3.0.0dev,>=2.18.0->google-api-core<2.0.0dev,>=0.1.1->google-cloud-storage) (1.22)\n",
            "Requirement already satisfied, skipping upgrade: certifi>=2017.4.17 in /usr/local/lib/python2.7/dist-packages (from requests<3.0.0dev,>=2.18.0->google-api-core<2.0.0dev,>=0.1.1->google-cloud-storage) (2018.10.15)\n",
            "Requirement already satisfied, skipping upgrade: chardet<3.1.0,>=3.0.2 in /usr/local/lib/python2.7/dist-packages (from requests<3.0.0dev,>=2.18.0->google-api-core<2.0.0dev,>=0.1.1->google-cloud-storage) (3.0.4)\n",
            "Requirement already satisfied, skipping upgrade: cachetools>=2.0.0 in /usr/local/lib/python2.7/dist-packages (from google-auth<2.0.0dev,>=0.4.0->google-api-core<2.0.0dev,>=0.1.1->google-cloud-storage) (2.1.0)\n",
            "Requirement already satisfied, skipping upgrade: pyasn1-modules>=0.2.1 in /usr/local/lib/python2.7/dist-packages (from google-auth<2.0.0dev,>=0.4.0->google-api-core<2.0.0dev,>=0.1.1->google-cloud-storage) (0.2.2)\n",
            "Requirement already satisfied, skipping upgrade: rsa>=3.1.4 in /usr/local/lib/python2.7/dist-packages (from google-auth<2.0.0dev,>=0.4.0->google-api-core<2.0.0dev,>=0.1.1->google-cloud-storage) (4.0)\n",
            "Requirement already satisfied, skipping upgrade: pyasn1<0.5.0,>=0.4.1 in /usr/local/lib/python2.7/dist-packages (from pyasn1-modules>=0.2.1->google-auth<2.0.0dev,>=0.4.0->google-api-core<2.0.0dev,>=0.1.1->google-cloud-storage) (0.4.4)\n",
            "\u001b[31mgoogle-cloud-bigquery 0.25.0 has requirement google-cloud-core<0.26dev,>=0.25.0, but you'll have google-cloud-core 0.28.1 which is incompatible.\u001b[0m\n",
            "Installing collected packages: google-cloud-core, google-cloud-storage\n",
            "  Found existing installation: google-cloud-core 0.25.0\n",
            "    Uninstalling google-cloud-core-0.25.0:\n",
            "      Successfully uninstalled google-cloud-core-0.25.0\n",
            "  Found existing installation: google-cloud-storage 1.8.0\n",
            "    Uninstalling google-cloud-storage-1.8.0:\n",
            "      Successfully uninstalled google-cloud-storage-1.8.0\n",
            "Successfully installed google-cloud-core-0.28.1 google-cloud-storage-1.13.0\n",
            "Collecting timezonefinder\n",
            "\u001b[?25l  Downloading https://files.pythonhosted.org/packages/d0/b8/b0e5d4ae7d59f8ceb6efcdbb66fa57636b4cf228a1d463da679ea9eb71cc/timezonefinder-3.1.0-py2.py3-none-any.whl (34.5MB)\n",
            "\u001b[K    100% |████████████████████████████████| 34.5MB 406kB/s \n",
            "\u001b[?25hRequirement already satisfied: six in /usr/local/lib/python2.7/dist-packages (from timezonefinder) (1.11.0)\n",
            "Requirement already satisfied: numpy in /usr/local/lib/python2.7/dist-packages (from timezonefinder) (1.14.6)\n",
            "Collecting kwargs-only (from timezonefinder)\n",
            "  Downloading https://files.pythonhosted.org/packages/21/9f/4415b310802eae064607ce2e762dc452220424dbdcf680346f796203bd58/kwargs_only-1.0.0-py2.py3-none-any.whl\n",
            "Installing collected packages: kwargs-only, timezonefinder\n",
            "Successfully installed kwargs-only-1.0.0 timezonefinder-3.1.0\n"
          ],
          "name": "stdout"
        }
      ]
    },
    {
      "metadata": {
        "id": "kzLczj527iDc",
        "colab_type": "text"
      },
      "cell_type": "markdown",
      "source": [
        "### ... and import some libs\n"
      ]
    },
    {
      "metadata": {
        "id": "ij1XjLN9G-XL",
        "colab_type": "code",
        "outputId": "a9e86a5c-423f-4060-b011-2a423fd77cb0",
        "colab": {
          "base_uri": "https://localhost:8080/",
          "height": 72
        }
      },
      "cell_type": "code",
      "source": [
        "import csv\n",
        "import apache_beam as beam\n",
        "from google.cloud import storage\n",
        "import timezonefinder\n",
        "from apache_beam.io import ReadFromText\n",
        "from apache_beam.io import WriteToText\n",
        "from apache_beam.options.pipeline_options import PipelineOptions\n",
        "from apache_beam.options.pipeline_options import SetupOptions"
      ],
      "execution_count": 0,
      "outputs": [
        {
          "output_type": "stream",
          "text": [
            "/usr/local/lib/python2.7/dist-packages/apache_beam/io/gcp/pubsub.py:43: ImportWarning: Not importing directory '/usr/local/lib/python2.7/dist-packages/google/cloud/proto': missing __init__.py\n",
            "  from google.cloud.proto.pubsub.v1 import pubsub_pb2\n"
          ],
          "name": "stderr"
        }
      ]
    },
    {
      "metadata": {
        "id": "4caFHVaj7vfh",
        "colab_type": "text"
      },
      "cell_type": "markdown",
      "source": [
        "### Set your project here"
      ]
    },
    {
      "metadata": {
        "id": "L8UPwkhPOTlm",
        "colab_type": "code",
        "outputId": "017db11b-21ef-4224-d6dd-44330ea2a97d",
        "colab": {
          "base_uri": "https://localhost:8080/",
          "height": 35
        }
      },
      "cell_type": "code",
      "source": [
        "%env GOOGLE_CLOUD_PROJECT=funwithcloud"
      ],
      "execution_count": 0,
      "outputs": [
        {
          "output_type": "stream",
          "text": [
            "env: GOOGLE_CLOUD_PROJECT=funwithcloud\n"
          ],
          "name": "stdout"
        }
      ]
    },
    {
      "metadata": {
        "id": "QCUKQRPQ74mz",
        "colab_type": "text"
      },
      "cell_type": "markdown",
      "source": [
        "### And authenticate "
      ]
    },
    {
      "metadata": {
        "id": "PfSbXvO7K5LD",
        "colab_type": "code",
        "colab": {}
      },
      "cell_type": "code",
      "source": [
        "from google.colab import auth\n",
        "auth.authenticate_user()"
      ],
      "execution_count": 0,
      "outputs": []
    },
    {
      "metadata": {
        "id": "nppnO8BV8DOC",
        "colab_type": "text"
      },
      "cell_type": "markdown",
      "source": [
        "### Remove all previous generated output files\n"
      ]
    },
    {
      "metadata": {
        "id": "KLtQjimhnteB",
        "colab_type": "code",
        "outputId": "35452dab-75e3-4a60-8372-1866040c4eed",
        "colab": {
          "base_uri": "https://localhost:8080/",
          "height": 52
        }
      },
      "cell_type": "code",
      "source": [
        "%%bash \n",
        "gsutil ls gs://airflights/output/*\n",
        "gsutil rm gs://airflights/output/*"
      ],
      "execution_count": 0,
      "outputs": [
        {
          "output_type": "stream",
          "text": [
            "CommandException: One or more URLs matched no objects.\n",
            "CommandException: No URLs matched: gs://airflights/output/*\n"
          ],
          "name": "stderr"
        }
      ]
    },
    {
      "metadata": {
        "id": "v-lU9f6tQ66E",
        "colab_type": "code",
        "outputId": "dc9b2e26-a43a-4a64-fe64-9bdd27cf61f7",
        "colab": {
          "base_uri": "https://localhost:8080/",
          "height": 35
        }
      },
      "cell_type": "code",
      "source": [
        "   with beam.Pipeline('DirectRunner') as pipeline:\n",
        "\n",
        "      airports = (pipeline\n",
        "         | beam.io.ReadFromText('gs://airflights/airports.csv.gz')\n",
        "         | beam.Map(lambda line: next(csv.reader([line])))\n",
        "         | beam.Map(lambda fields: (fields[0], (fields[21], fields[26])))\n",
        "      )\n",
        "\n",
        "      airports | beam.Map(lambda (airport, data): '{},{}'.format(airport, ','.join(data)) )| beam.io.textio.WriteToText('gs://airflights/output/extracted_airports')\n",
        "\n",
        "      pipeline.run()"
      ],
      "execution_count": 0,
      "outputs": [
        {
          "output_type": "stream",
          "text": [
            "WARNING:root:Deleting 1 existing files in target path matching: -*-of-%(num_shards)05d\n"
          ],
          "name": "stderr"
        }
      ]
    },
    {
      "metadata": {
        "id": "rU95aScWjaQ9",
        "colab_type": "text"
      },
      "cell_type": "markdown",
      "source": [
        "### Check output "
      ]
    },
    {
      "metadata": {
        "id": "XpHMgYQ9jrf7",
        "colab_type": "code",
        "outputId": "754794ff-afac-45a3-eb69-a41ce585032f",
        "colab": {
          "base_uri": "https://localhost:8080/",
          "height": 35
        }
      },
      "cell_type": "code",
      "source": [
        "%%bash \n",
        "gsutil ls gs://airflights/output/*"
      ],
      "execution_count": 0,
      "outputs": [
        {
          "output_type": "stream",
          "text": [
            "gs://airflights/output/extracted_airports-00000-of-00001\n"
          ],
          "name": "stdout"
        }
      ]
    },
    {
      "metadata": {
        "id": "c4jKbrfNjnHJ",
        "colab_type": "code",
        "outputId": "831f95bc-a21c-4b14-d56c-16efb43305b2",
        "colab": {
          "base_uri": "https://localhost:8080/",
          "height": 363
        }
      },
      "cell_type": "code",
      "source": [
        "%%bash \n",
        "gsutil cat gs://airflights/output/extracted_airports-00000-of-00001 | head -n20"
      ],
      "execution_count": 0,
      "outputs": [
        {
          "output_type": "stream",
          "text": [
            "AIRPORT_SEQ_ID,LATITUDE,LONGITUDE\n",
            "1000101,58.10944444,-152.90666667\n",
            "1000301,65.54805556,-161.07166667\n",
            "1000401,68.08333333,-163.16666667\n",
            "1000501,67.57000000,-148.18388889\n",
            "1000601,57.74527778,-152.88277778\n",
            "1000701,55.55472222,-133.10166667\n",
            "1000801,59.15694444,-151.82916667\n",
            "1000901,59.36277778,-153.43055556\n",
            "1001001,42.28888889,-73.71027778\n",
            "1001002,42.29138889,-73.71027778\n",
            "1001101,35.99027778,-113.81638889\n",
            "1001102,35.98611111,-113.81694444\n",
            "1001201,40.97111111,-74.99750000\n",
            "1001301,33.62388889,-101.24083333\n",
            "1001401,64.36416667,-147.36138889\n",
            "1001402,64.36361111,-147.36388889\n",
            "1001501,57.06666667,-153.93777778\n",
            "1001601,58.45750000,-154.02333333\n",
            "1001701,57.27722222,-154.34222222\n"
          ],
          "name": "stdout"
        }
      ]
    },
    {
      "metadata": {
        "id": "yPgmcxmPl_5_",
        "colab_type": "code",
        "outputId": "c417afff-2169-4b01-f095-d6231e4e2b74",
        "colab": {
          "base_uri": "https://localhost:8080/",
          "height": 52
        }
      },
      "cell_type": "code",
      "source": [
        "def addtimezone(lat, lon):\n",
        "   try:\n",
        "      import timezonefinder\n",
        "      tf = timezonefinder.TimezoneFinder()\n",
        "      tz = tf.timezone_at(lng=float(lon), lat=float(lat))\n",
        "      if tz is None:\n",
        "         tz = 'UTC'\n",
        "      return (lat, lon, tz)\n",
        "   except ValueError:\n",
        "      return (lat, lon, 'TIMEZONE') # header\n",
        "\n",
        "if __name__ == '__main__':\n",
        "   with beam.Pipeline('DirectRunner') as pipeline:\n",
        "\n",
        "      airports = (pipeline\n",
        "         | beam.io.ReadFromText('gs://airflights/airports.csv.gz')\n",
        "         | beam.Map(lambda line: next(csv.reader([line])))\n",
        "         | beam.Map(lambda fields: (fields[0], addtimezone(fields[21], fields[26])))\n",
        "      )\n",
        "\n",
        "      airports | beam.Map(lambda (airport, data): '{},{}'.format(airport, ','.join(data)) )| beam.io.textio.WriteToText('gs://airflights/output/extracted_airports')\n",
        "\n",
        "      pipeline.run()"
      ],
      "execution_count": 0,
      "outputs": [
        {
          "output_type": "stream",
          "text": [
            "WARNING:root:Deleting 1 existing files in target path matching: -*-of-%(num_shards)05d\n",
            "WARNING:root:Deleting 1 existing files in target path matching: -*-of-%(num_shards)05d\n"
          ],
          "name": "stderr"
        }
      ]
    },
    {
      "metadata": {
        "id": "iIcw9pSN6URV",
        "colab_type": "code",
        "outputId": "424bdeae-6940-404f-8fa8-1dc2c4e4a031",
        "colab": {
          "base_uri": "https://localhost:8080/",
          "height": 35
        }
      },
      "cell_type": "code",
      "source": [
        "%%bash \n",
        "gsutil ls gs://airflights/output/*"
      ],
      "execution_count": 0,
      "outputs": [
        {
          "output_type": "stream",
          "text": [
            "gs://airflights/output/extracted_airports-00000-of-00001\n"
          ],
          "name": "stdout"
        }
      ]
    },
    {
      "metadata": {
        "id": "vAIEuDVn9kwn",
        "colab_type": "code",
        "outputId": "fecb9842-14e7-424c-a9c6-24c9cd3a9960",
        "colab": {
          "base_uri": "https://localhost:8080/",
          "height": 357
        }
      },
      "cell_type": "code",
      "source": [
        "%%bash \n",
        "gsutil cat gs://airflights/output/extracted_airports-00000-of-00001 | head -n20"
      ],
      "execution_count": 0,
      "outputs": [
        {
          "output_type": "stream",
          "text": [
            "AIRPORT_SEQ_ID,LATITUDE,LONGITUDE,TIMEZONE\n",
            "1000101,58.10944444,-152.90666667,America/Anchorage\n",
            "1000301,65.54805556,-161.07166667,America/Anchorage\n",
            "1000401,68.08333333,-163.16666667,America/Nome\n",
            "1000501,67.57000000,-148.18388889,America/Anchorage\n",
            "1000601,57.74527778,-152.88277778,America/Anchorage\n",
            "1000701,55.55472222,-133.10166667,America/Sitka\n",
            "1000801,59.15694444,-151.82916667,America/Anchorage\n",
            "1000901,59.36277778,-153.43055556,America/Anchorage\n",
            "1001001,42.28888889,-73.71027778,America/New_York\n",
            "1001002,42.29138889,-73.71027778,America/New_York\n",
            "1001101,35.99027778,-113.81638889,America/Phoenix\n",
            "1001102,35.98611111,-113.81694444,America/Phoenix\n",
            "1001201,40.97111111,-74.99750000,America/New_York\n",
            "1001301,33.62388889,-101.24083333,America/Chicago\n",
            "1001401,64.36416667,-147.36138889,America/Anchorage\n",
            "1001402,64.36361111,-147.36388889,America/Anchorage\n",
            "1001501,57.06666667,-153.93777778,America/Anchorage\n",
            "1001601,58.45750000,-154.02333333,America/Anchorage\n",
            "1001701,57.27722222,-154.34222222,America/Anchorage\n"
          ],
          "name": "stdout"
        }
      ]
    },
    {
      "metadata": {
        "id": "UrdtO9OJrOSi",
        "colab_type": "code",
        "outputId": "424c532b-8877-4ec7-c19e-ae1afec8f13f",
        "colab": {
          "base_uri": "https://localhost:8080/",
          "height": 69
        }
      },
      "cell_type": "code",
      "source": [
        "print 'start'\n",
        "def addtimezone(lat, lon):\n",
        "   try:\n",
        "      import timezonefinder\n",
        "      tf = timezonefinder.TimezoneFinder()\n",
        "      return (lat, lon, tf.timezone_at(lng=float(lon), lat=float(lat)))\n",
        "      #return (lat, lon, 'America/Los_Angeles') # FIXME\n",
        "   except ValueError:\n",
        "      return (lat, lon, 'TIMEZONE') # header\n",
        "\n",
        "def as_utc(date, hhmm, tzone):\n",
        "   try:\n",
        "      if len(hhmm) > 0 and tzone is not None:\n",
        "         import datetime, pytz\n",
        "         loc_tz = pytz.timezone(tzone)\n",
        "         loc_dt = loc_tz.localize(datetime.datetime.strptime(date,'%Y-%m-%d'), is_dst=False)\n",
        "         # can't just parse hhmm because the data contains 2400 and the like ...\n",
        "         loc_dt += datetime.timedelta(hours=int(hhmm[:2]), minutes=int(hhmm[2:]))\n",
        "         utc_dt = loc_dt.astimezone(pytz.utc)\n",
        "         print 'get utc'\n",
        "         return utc_dt.strftime('%Y-%m-%d %H:%M:%S')\n",
        "      else:\n",
        "         return '' # empty string corresponds to canceled flights\n",
        "   except ValueError as e:\n",
        "      print '{} {} {}'.format(date, hhmm, tzone)\n",
        "      raise e\n",
        "\n",
        "def tz_correct(line, airport_timezones):\n",
        "   fields = line.split(',')\n",
        "   if fields[0] != 'FL_DATE' and len(fields) == 27:\n",
        "      # convert all times to UTC\n",
        "      dep_airport_id = fields[6]\n",
        "      arr_airport_id = fields[10]\n",
        "      dep_timezone = airport_timezones[dep_airport_id][2]\n",
        "      arr_timezone = airport_timezones[arr_airport_id][2]\n",
        "\n",
        "      for f in [13, 14, 17]: #crsdeptime, deptime, wheelsoff\n",
        "         fields[f] = as_utc(fields[0], fields[f], dep_timezone)\n",
        "      for f in [18, 20, 21]: #wheelson, crsarrtime, arrtime\n",
        "         fields[f] = as_utc(fields[0], fields[f], arr_timezone)\n",
        "\n",
        "      yield ','.join(fields)\n",
        "      print 'tz_correct'\n",
        "\n",
        "if __name__ == '__main__':\n",
        "   with beam.Pipeline('DirectRunner') as pipeline:\n",
        "      print 'pipeline run'\n",
        "      airports = (pipeline\n",
        "         | 'airports:read' >> beam.io.ReadFromText('gs://airflights/airports.csv.gz')\n",
        "         | 'airports:fields' >> beam.Map(lambda line: next(csv.reader([line])))\n",
        "         | 'airports:tz' >> beam.Map(lambda fields: (fields[0], addtimezone(fields[21], fields[26])))\n",
        "      )\n",
        "\n",
        "      flights = (pipeline\n",
        "         | 'flights:read' >> beam.io.ReadFromText('gs://airflights/201501_part.csv')\n",
        "         | 'flights:tzcorr' >> beam.FlatMap(tz_correct, beam.pvalue.AsDict(airports))\n",
        "      )\n",
        "\n",
        "      flights | beam.io.textio.WriteToText('gs://airflights/output/all_flights')\n",
        "\n",
        "      pipeline.run()\n",
        "      "
      ],
      "execution_count": 0,
      "outputs": [
        {
          "output_type": "stream",
          "text": [
            "start\n",
            "pipeline run\n"
          ],
          "name": "stdout"
        },
        {
          "output_type": "stream",
          "text": [
            "WARNING:root:No shards found to finalize. num_shards: 1, skipped: 1\n"
          ],
          "name": "stderr"
        }
      ]
    },
    {
      "metadata": {
        "id": "WGghs12PJdq0",
        "colab_type": "code",
        "colab": {}
      },
      "cell_type": "code",
      "source": [
        "%%bash \n",
        "gsutil cat gs://airflights/output/all_flights*| head -n20"
      ],
      "execution_count": 0,
      "outputs": []
    },
    {
      "metadata": {
        "id": "d7IBJ0-ZroUi",
        "colab_type": "code",
        "colab": {}
      },
      "cell_type": "code",
      "source": [
        ""
      ],
      "execution_count": 0,
      "outputs": []
    }
  ]
}